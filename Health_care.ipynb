{
 "cells": [
  {
   "cell_type": "markdown",
   "id": "fec75a42",
   "metadata": {},
   "source": [
    "### Importing Libraries "
   ]
  },
  {
   "cell_type": "code",
   "execution_count": 1,
   "id": "d0a9c9e0",
   "metadata": {},
   "outputs": [
    {
     "name": "stdout",
     "output_type": "stream",
     "text": [
      "WARNING:tensorflow:From c:\\Users\\Zainch-032\\AppData\\Local\\Programs\\Python\\Python311\\Lib\\site-packages\\keras\\src\\losses.py:2976: The name tf.losses.sparse_softmax_cross_entropy is deprecated. Please use tf.compat.v1.losses.sparse_softmax_cross_entropy instead.\n",
      "\n"
     ]
    }
   ],
   "source": [
    "import numpy as np\n",
    "import pandas as pd\n",
    "import matplotlib.pyplot as plt\n",
    "import seaborn as sns\n",
    "\n",
    "from sklearn.model_selection import train_test_split\n",
    "from sklearn.preprocessing import StandardScaler, LabelEncoder\n",
    "from tensorflow.keras.models import Sequential\n",
    "from tensorflow.keras.layers import Dense, Dropout, BatchNormalization\n",
    "from tensorflow.keras.callbacks import EarlyStopping, ReduceLROnPlateau\n",
    "from tensorflow.keras.optimizers import Adam\n",
    "from sklearn.metrics import classification_report, confusion_matrix\n",
    "from sklearn.utils.class_weight import compute_class_weight\n",
    "from tensorflow.keras.utils import to_categorical \n",
    "from tensorflow.keras.regularizers import l2 \n",
    "\n",
    "# Load and prepare data\n",
    "df = pd.read_csv(\"healthcare_dataset.csv\")"
   ]
  },
  {
   "cell_type": "markdown",
   "id": "3cf6217c",
   "metadata": {},
   "source": [
    "# Feature Engineering"
   ]
  },
  {
   "cell_type": "markdown",
   "id": "65b97a3d",
   "metadata": {},
   "source": [
    "### 1. Discount  "
   ]
  },
  {
   "cell_type": "code",
   "execution_count": 2,
   "id": "2c3b9894",
   "metadata": {},
   "outputs": [],
   "source": [
    "# 1. Insurance discounts\n",
    "insurance_discounts = {\n",
    "    'Blue Cross': 0.20,\n",
    "    'Medicare': 0.25,\n",
    "    'Aetna': 0.15,\n",
    "    'UnitedHealthcare': 0.18,\n",
    "    'Cigna': 0.10\n",
    "}\n",
    "df['Discounted_Amount'] = df.apply(lambda row: row['Billing Amount'] * \n",
    "                         (1 - insurance_discounts.get(row['Insurance Provider'], 0)), axis=1)"
   ]
  },
  {
   "cell_type": "markdown",
   "id": "05ecab17",
   "metadata": {},
   "source": [
    "### 2. Gender Score Based on Admission"
   ]
  },
  {
   "cell_type": "code",
   "execution_count": 3,
   "id": "747158b6",
   "metadata": {},
   "outputs": [],
   "source": [
    "#  Admission scores\n",
    "admission_type_scores = {'Emergency': 10, 'Urgent': 7, 'Elective': 3}\n",
    "df['Admission_Score'] = df['Admission Type'].map(admission_type_scores)\n",
    "\n",
    "# Gender scores\n",
    "gender_scores = {'Male': 5, 'Female': 7.5}\n",
    "df['Gender_Score'] = df['Gender'].map(gender_scores)\n",
    "df['Gender_Admission'] = df['Gender_Score'] * df['Admission_Score']\n"
   ]
  },
  {
   "cell_type": "markdown",
   "id": "0b5da838",
   "metadata": {},
   "source": [
    "### 3. Medical score based on Disease"
   ]
  },
  {
   "cell_type": "code",
   "execution_count": 4,
   "id": "71e43c5d",
   "metadata": {},
   "outputs": [],
   "source": [
    "# Medical conditions\n",
    "disease_scores = {\n",
    "    'Cancer': 10, 'Obesity': 6, 'Diabetes': 7,\n",
    "    'Asthma': 5, 'Hypertension': 6, 'Arthritis': 4\n",
    "}\n",
    "df['Disease_Score'] = df['Medical Condition'].map(disease_scores)\n",
    "\n",
    "#  Medication scores\n",
    "medicine_scores = {\n",
    "    'Paracetamol': 3, 'Ibuprofen': 4, 'Aspirin': 5,\n",
    "    'Penicillin': 8, 'Lipitor': 7\n",
    "}\n",
    "df['Medication'] = df['Medication'].map(medicine_scores)\n",
    "df['Medication_Score'] = df['Disease_Score'] * df['Medication']\n"
   ]
  },
  {
   "cell_type": "markdown",
   "id": "ad624a22",
   "metadata": {},
   "source": [
    "### 4.Time-based features"
   ]
  },
  {
   "cell_type": "code",
   "execution_count": 5,
   "id": "4c3f284e",
   "metadata": {},
   "outputs": [],
   "source": [
    "#  Time-based features\n",
    "df['Date of Admission'] = pd.to_datetime(df['Date of Admission'])\n",
    "df['Discharge Date'] = pd.to_datetime(df['Discharge Date'])\n",
    "df['Time Spent (days)'] = (df['Discharge Date'] - df['Date of Admission']).dt.days"
   ]
  },
  {
   "cell_type": "markdown",
   "id": "49c13dba",
   "metadata": {},
   "source": [
    "### 5. Age categories"
   ]
  },
  {
   "cell_type": "code",
   "execution_count": 6,
   "id": "e52f9951",
   "metadata": {},
   "outputs": [],
   "source": [
    "#  Age categories\n",
    "def age_part(row):\n",
    "    if row['Age'] < 18: return 'Child'\n",
    "    elif row['Age'] < 30: return 'Adult'\n",
    "    elif row['Age'] < 60: return 'Middle-aged'\n",
    "    else: return 'Old-age'\n",
    "df['Age-part'] = df.apply(age_part, axis=1)\n"
   ]
  },
  {
   "cell_type": "markdown",
   "id": "7da428b4",
   "metadata": {},
   "source": [
    "#### Encoding Data"
   ]
  },
  {
   "cell_type": "code",
   "execution_count": 7,
   "id": "4c9c11a6",
   "metadata": {},
   "outputs": [],
   "source": [
    "# First encode target variable\n",
    "\n",
    "le = LabelEncoder()\n",
    "df['Test Results_encoded'] = le.fit_transform(df['Test Results'])\n",
    "\n",
    "# Target encoding for high-cardinality features\n",
    "\n",
    "for col in ['Doctor', 'Hospital']:\n",
    "    encoding_map = df.groupby(col)['Test Results_encoded'].mean().to_dict()\n",
    "    df[f'{col}_encoded'] = df[col].map(encoding_map)\n",
    "\n",
    "# One-hot encoding for blood type\n",
    "blood_type_dummies = pd.get_dummies(df['Blood Type'], prefix='blood_type')\n",
    "df = pd.concat([df, blood_type_dummies], axis=1)"
   ]
  },
  {
   "cell_type": "markdown",
   "id": "26a9a309",
   "metadata": {},
   "source": [
    "#### Ordinal encoding for age-part"
   ]
  },
  {
   "cell_type": "code",
   "execution_count": 8,
   "id": "e3075818",
   "metadata": {},
   "outputs": [],
   "source": [
    "\n",
    "age_order = {'Child': 0, 'Adult': 1, 'Middle-aged': 2, 'Old-age': 3}\n",
    "df['Age-part'] = df['Age-part'].map(age_order)\n"
   ]
  },
  {
   "cell_type": "markdown",
   "id": "aa06161f",
   "metadata": {},
   "source": [
    "#### Interaction features"
   ]
  },
  {
   "cell_type": "code",
   "execution_count": 9,
   "id": "eb5b1606",
   "metadata": {},
   "outputs": [],
   "source": [
    "\n",
    "df['Severity_Score'] = df['Medication_Score'] * df['Gender_Admission']\n",
    "df['Billing_to_Time_Ratio'] = df['Discounted_Amount'] / (df['Time Spent (days)'] + 1)\n"
   ]
  },
  {
   "cell_type": "markdown",
   "id": "6dd6089e",
   "metadata": {},
   "source": [
    "#### Drop unnecessary columns"
   ]
  },
  {
   "cell_type": "code",
   "execution_count": 10,
   "id": "d35108fd",
   "metadata": {},
   "outputs": [],
   "source": [
    "\n",
    "df.drop(columns=[\n",
    "    'Name', 'Date of Admission', 'Discharge Date', 'Age',\n",
    "    'Medical Condition', 'Room Number', 'Disease_Score',\n",
    "    'Gender', 'Admission Type', 'Admission_Score',\n",
    "    'Insurance Provider', 'Billing Amount', 'Doctor', 'Hospital', 'Blood Type',\n",
    "    'Test Results'  # Using encoded version instead\n",
    "], inplace=True)\n",
    "\n",
    "# Prepare features and target\n",
    "features = [col for col in df.columns if col != 'Test Results_encoded']\n",
    "X = df[features]\n",
    "y = df['Test Results_encoded']\n"
   ]
  },
  {
   "cell_type": "markdown",
   "id": "3e22b3e1",
   "metadata": {},
   "source": [
    "#### Split data ,Scale Feature"
   ]
  },
  {
   "cell_type": "code",
   "execution_count": 11,
   "id": "190e8589",
   "metadata": {},
   "outputs": [],
   "source": [
    "\n",
    "\n",
    "X_train, X_test, y_train, y_test = train_test_split(\n",
    "    X, y, test_size=0.2, random_state=42, stratify=y\n",
    ")\n",
    "\n",
    "# Scale features\n",
    "scaler = StandardScaler()\n",
    "X_train = scaler.fit_transform(X_train)\n",
    "X_test = scaler.transform(X_test)\n",
    "\n",
    "# Prepare target\n",
    "num_classes = len(le.classes_)\n",
    "y_train = to_categorical(y_train, num_classes=num_classes)\n",
    "y_test = to_categorical(y_test, num_classes=num_classes)\n",
    "\n",
    "# Calculate class weights\n",
    "y_integers = np.argmax(y_train, axis=1)\n",
    "class_weights = compute_class_weight('balanced', classes=np.unique(y_integers), y=y_integers)\n",
    "class_weight_dict = dict(enumerate(class_weights))"
   ]
  },
  {
   "cell_type": "markdown",
   "id": "5cce88e5",
   "metadata": {},
   "source": [
    "#### Build enhanced model"
   ]
  },
  {
   "cell_type": "code",
   "execution_count": 12,
   "id": "f3871142",
   "metadata": {},
   "outputs": [
    {
     "name": "stdout",
     "output_type": "stream",
     "text": [
      "WARNING:tensorflow:From c:\\Users\\Zainch-032\\AppData\\Local\\Programs\\Python\\Python311\\Lib\\site-packages\\keras\\src\\backend.py:873: The name tf.get_default_graph is deprecated. Please use tf.compat.v1.get_default_graph instead.\n",
      "\n"
     ]
    }
   ],
   "source": [
    "\n",
    "input_shape = (X_train.shape[1],)\n",
    "model = Sequential([\n",
    "    Dense(256, activation='relu', input_shape=input_shape, kernel_regularizer=l2(0.01)),\n",
    "    BatchNormalization(),\n",
    "    Dropout(0.5),\n",
    "    \n",
    "    Dense(128, activation='relu', kernel_regularizer=l2(0.01)),\n",
    "    BatchNormalization(),\n",
    "    Dropout(0.4),\n",
    "    \n",
    "    Dense(64, activation='relu', kernel_regularizer=l2(0.01)),\n",
    "    BatchNormalization(),\n",
    "    Dropout(0.3),\n",
    "    \n",
    "    Dense(num_classes, activation='softmax')\n",
    "])\n"
   ]
  },
  {
   "cell_type": "markdown",
   "id": "dd37fc04",
   "metadata": {},
   "source": [
    "### Compile or Train Model"
   ]
  },
  {
   "cell_type": "code",
   "execution_count": null,
   "id": "aa22cb7d",
   "metadata": {},
   "outputs": [
    {
     "name": "stdout",
     "output_type": "stream",
     "text": [
      "Epoch 1/50\n",
      "WARNING:tensorflow:From c:\\Users\\Zainch-032\\AppData\\Local\\Programs\\Python\\Python311\\Lib\\site-packages\\keras\\src\\utils\\tf_utils.py:492: The name tf.ragged.RaggedTensorValue is deprecated. Please use tf.compat.v1.ragged.RaggedTensorValue instead.\n",
      "\n",
      "WARNING:tensorflow:From c:\\Users\\Zainch-032\\AppData\\Local\\Programs\\Python\\Python311\\Lib\\site-packages\\keras\\src\\engine\\base_layer_utils.py:384: The name tf.executing_eagerly_outside_functions is deprecated. Please use tf.compat.v1.executing_eagerly_outside_functions instead.\n",
      "\n",
      "1041/1041 [==============================] - 14s 9ms/step - loss: 1.5869 - accuracy: 0.8707 - val_loss: 0.4923 - val_accuracy: 0.9488\n",
      "Epoch 2/50\n",
      "1041/1041 [==============================] - 10s 9ms/step - loss: 0.3807 - accuracy: 0.9326 - val_loss: 0.2554 - val_accuracy: 0.9561\n",
      "Epoch 3/50\n",
      "1041/1041 [==============================] - 10s 10ms/step - loss: 0.2959 - accuracy: 0.9380 - val_loss: 0.2384 - val_accuracy: 0.9531\n",
      "Epoch 4/50\n",
      "1041/1041 [==============================] - 10s 10ms/step - loss: 0.2774 - accuracy: 0.9411 - val_loss: 0.2237 - val_accuracy: 0.9563\n",
      "Epoch 5/50\n",
      "1041/1041 [==============================] - 10s 9ms/step - loss: 0.2699 - accuracy: 0.9415 - val_loss: 0.2341 - val_accuracy: 0.9545\n",
      "Epoch 6/50\n",
      "1041/1041 [==============================] - 10s 9ms/step - loss: 0.2706 - accuracy: 0.9424 - val_loss: 0.2204 - val_accuracy: 0.9553\n",
      "Epoch 7/50\n",
      "1041/1041 [==============================] - 10s 9ms/step - loss: 0.2648 - accuracy: 0.9428 - val_loss: 0.2185 - val_accuracy: 0.9547\n",
      "Epoch 8/50\n",
      "1041/1041 [==============================] - 10s 10ms/step - loss: 0.2634 - accuracy: 0.9423 - val_loss: 0.2200 - val_accuracy: 0.9550\n",
      "Epoch 9/50\n",
      "1041/1041 [==============================] - 10s 9ms/step - loss: 0.2593 - accuracy: 0.9429 - val_loss: 0.2118 - val_accuracy: 0.9541\n",
      "Epoch 10/50\n",
      "1041/1041 [==============================] - 10s 9ms/step - loss: 0.2590 - accuracy: 0.9423 - val_loss: 0.2179 - val_accuracy: 0.9561\n",
      "Epoch 11/50\n",
      "1041/1041 [==============================] - 10s 9ms/step - loss: 0.2542 - accuracy: 0.9440 - val_loss: 0.2111 - val_accuracy: 0.9567\n",
      "Epoch 12/50\n",
      "1041/1041 [==============================] - 10s 9ms/step - loss: 0.2538 - accuracy: 0.9440 - val_loss: 0.2049 - val_accuracy: 0.9571\n",
      "Epoch 13/50\n",
      "1041/1041 [==============================] - 10s 9ms/step - loss: 0.2506 - accuracy: 0.9451 - val_loss: 0.2127 - val_accuracy: 0.9564\n",
      "Epoch 14/50\n",
      "1041/1041 [==============================] - 10s 9ms/step - loss: 0.2484 - accuracy: 0.9444 - val_loss: 0.2088 - val_accuracy: 0.9544\n",
      "Epoch 15/50\n",
      "1041/1041 [==============================] - 10s 10ms/step - loss: 0.2475 - accuracy: 0.9456 - val_loss: 0.1992 - val_accuracy: 0.9575\n",
      "Epoch 16/50\n",
      "1041/1041 [==============================] - 10s 9ms/step - loss: 0.2495 - accuracy: 0.9456 - val_loss: 0.1975 - val_accuracy: 0.9577\n",
      "Epoch 17/50\n",
      "1041/1041 [==============================] - 10s 9ms/step - loss: 0.2476 - accuracy: 0.9455 - val_loss: 0.2027 - val_accuracy: 0.9554\n",
      "Epoch 18/50\n",
      "1041/1041 [==============================] - 10s 9ms/step - loss: 0.2433 - accuracy: 0.9465 - val_loss: 0.2031 - val_accuracy: 0.9563\n",
      "Epoch 19/50\n",
      "1041/1041 [==============================] - 11s 11ms/step - loss: 0.2369 - accuracy: 0.9469 - val_loss: 0.2006 - val_accuracy: 0.9559\n",
      "Epoch 20/50\n",
      "1041/1041 [==============================] - 11s 11ms/step - loss: 0.2398 - accuracy: 0.9463 - val_loss: 0.1927 - val_accuracy: 0.9577\n",
      "Epoch 21/50\n",
      "1041/1041 [==============================] - 12s 11ms/step - loss: 0.2413 - accuracy: 0.9455 - val_loss: 0.1987 - val_accuracy: 0.9557\n",
      "Epoch 22/50\n",
      "1041/1041 [==============================] - 11s 11ms/step - loss: 0.2354 - accuracy: 0.9471 - val_loss: 0.1959 - val_accuracy: 0.9552\n",
      "Epoch 23/50\n",
      "1041/1041 [==============================] - 12s 12ms/step - loss: 0.2369 - accuracy: 0.9462 - val_loss: 0.1904 - val_accuracy: 0.9574\n",
      "Epoch 24/50\n",
      "1041/1041 [==============================] - 12s 12ms/step - loss: 0.2340 - accuracy: 0.9477 - val_loss: 0.1946 - val_accuracy: 0.9564\n",
      "Epoch 25/50\n",
      "1041/1041 [==============================] - 11s 11ms/step - loss: 0.2310 - accuracy: 0.9479 - val_loss: 0.1920 - val_accuracy: 0.9574\n",
      "Epoch 26/50\n",
      "1041/1041 [==============================] - 10s 9ms/step - loss: 0.2340 - accuracy: 0.9472 - val_loss: 0.1930 - val_accuracy: 0.9577\n",
      "Epoch 27/50\n",
      "1041/1041 [==============================] - 10s 9ms/step - loss: 0.2300 - accuracy: 0.9473 - val_loss: 0.1927 - val_accuracy: 0.9568\n",
      "Epoch 28/50\n",
      "1041/1041 [==============================] - 8s 7ms/step - loss: 0.2262 - accuracy: 0.9484 - val_loss: 0.1895 - val_accuracy: 0.9575\n",
      "Epoch 29/50\n",
      "1041/1041 [==============================] - 7s 7ms/step - loss: 0.2332 - accuracy: 0.9473 - val_loss: 0.1925 - val_accuracy: 0.9586\n",
      "Epoch 30/50\n",
      "1041/1041 [==============================] - 6s 6ms/step - loss: 0.2300 - accuracy: 0.9481 - val_loss: 0.1970 - val_accuracy: 0.9566\n",
      "Epoch 31/50\n",
      "1041/1041 [==============================] - 6s 6ms/step - loss: 0.2287 - accuracy: 0.9472 - val_loss: 0.1919 - val_accuracy: 0.9570\n",
      "Epoch 32/50\n",
      "1041/1041 [==============================] - 7s 6ms/step - loss: 0.2314 - accuracy: 0.9475 - val_loss: 0.1911 - val_accuracy: 0.9560\n",
      "Epoch 33/50\n",
      "1041/1041 [==============================] - 7s 6ms/step - loss: 0.2262 - accuracy: 0.9489 - val_loss: 0.1857 - val_accuracy: 0.9574\n",
      "Epoch 34/50\n",
      "1041/1041 [==============================] - 6s 6ms/step - loss: 0.2234 - accuracy: 0.9483 - val_loss: 0.1859 - val_accuracy: 0.9586\n",
      "Epoch 35/50\n",
      "1041/1041 [==============================] - 6s 6ms/step - loss: 0.2304 - accuracy: 0.9476 - val_loss: 0.1841 - val_accuracy: 0.9599\n",
      "Epoch 36/50\n",
      "1041/1041 [==============================] - 6s 6ms/step - loss: 0.2223 - accuracy: 0.9493 - val_loss: 0.1929 - val_accuracy: 0.9564\n",
      "Epoch 37/50\n",
      " 894/1041 [========================>.....] - ETA: 0s - loss: 0.2241 - accuracy: 0.9487"
     ]
    }
   ],
   "source": [
    "\n",
    "model.compile(\n",
    "    optimizer=Adam(learning_rate=0.001),\n",
    "    loss='categorical_crossentropy',\n",
    "    metrics=['accuracy']\n",
    ")\n",
    "\n",
    "# Callbacks\n",
    "early_stopping = EarlyStopping(\n",
    "    monitor='val_loss', patience=10, restore_best_weights=True, verbose=1)\n",
    "\n",
    "\n",
    "# Train model\n",
    "history = model.fit(\n",
    "    X_train, y_train,\n",
    "    epochs=50,\n",
    "    batch_size=32,\n",
    "    validation_split=0.25,\n",
    "    verbose=1,\n",
    "    callbacks=[early_stopping],\n",
    "    class_weight=class_weight_dict\n",
    ")"
   ]
  },
  {
   "cell_type": "markdown",
   "id": "6e972f26",
   "metadata": {},
   "source": [
    "#### Evaluation"
   ]
  },
  {
   "cell_type": "code",
   "execution_count": null,
   "id": "b8e72efc",
   "metadata": {},
   "outputs": [
    {
     "data": {
      "image/png": "[encoded data removed]",
      "text/plain": [
       "<Figure size 1200x400 with 2 Axes>"
      ]
     },
     "metadata": {},
     "output_type": "display_data"
    },
    {
     "name": "stdout",
     "output_type": "stream",
     "text": [
      "347/347 [==============================] - 1s 3ms/step\n",
      "\n",
      "Classification Report:\n",
      "              precision    recall  f1-score   support\n",
      "\n",
      "    Abnormal       0.99      0.96      0.97      3726\n",
      "Inconclusive       0.92      0.97      0.94      3671\n",
      "      Normal       0.98      0.96      0.97      3703\n",
      "\n",
      "    accuracy                           0.96     11100\n",
      "   macro avg       0.96      0.96      0.96     11100\n",
      "weighted avg       0.96      0.96      0.96     11100\n",
      "\n"
     ]
    },
    {
     "data": {
      "image/png": "[encoded data removed]",
      "text/plain": [
       "<Figure size 800x600 with 2 Axes>"
      ]
     },
     "metadata": {},
     "output_type": "display_data"
    }
   ],
   "source": [
    "\n",
    "plt.figure(figsize=(12, 4))\n",
    "plt.subplot(1, 2, 1)\n",
    "plt.plot(history.history['loss'], label='Training Loss')\n",
    "plt.plot(history.history['val_loss'], label='Validation Loss')\n",
    "plt.xlabel('Epochs')\n",
    "plt.ylabel('Loss')\n",
    "plt.legend()\n",
    "\n",
    "plt.subplot(1, 2, 2)\n",
    "plt.plot(history.history['accuracy'], label='Training Accuracy')\n",
    "plt.plot(history.history['val_accuracy'], label='Validation Accuracy')\n",
    "plt.xlabel('Epochs')\n",
    "plt.ylabel('Accuracy')\n",
    "plt.legend()\n",
    "plt.show()\n",
    "\n",
    "# Classification report\n",
    "y_pred = model.predict(X_test)\n",
    "y_pred_classes = np.argmax(y_pred, axis=1)\n",
    "y_true = np.argmax(y_test, axis=1)\n",
    "\n",
    "print(\"\\nClassification Report:\")\n",
    "print(classification_report(y_true, y_pred_classes, target_names=le.classes_))\n",
    "\n",
    "# Confusion matrix\n",
    "plt.figure(figsize=(8, 6))\n",
    "sns.heatmap(confusion_matrix(y_true, y_pred_classes), \n",
    "            annot=True, fmt='d', \n",
    "            xticklabels=le.classes_, \n",
    "            yticklabels=le.classes_)\n",
    "plt.title('Confusion Matrix')\n",
    "plt.xlabel('Predicted')\n",
    "plt.ylabel('Actual')\n",
    "plt.show()"
   ]
  }
 ],
 "metadata": {
  "kernelspec": {
   "display_name": "Python 3",
   "language": "python",
   "name": "python3"
  },
  "language_info": {
   "codemirror_mode": {
    "name": "ipython",
    "version": 3
   },
   "file_extension": ".py",
   "mimetype": "text/x-python",
   "name": "python",
   "nbconvert_exporter": "python",
   "pygments_lexer": "ipython3",
   "version": "3.11.0"
  }
 },
 "nbformat": 4,
 "nbformat_minor": 5
}
